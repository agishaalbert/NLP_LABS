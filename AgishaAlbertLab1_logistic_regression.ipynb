{
  "cells": [
    {
      "cell_type": "markdown",
      "metadata": {
        "id": "view-in-github",
        "colab_type": "text"
      },
      "source": [
        "<a href=\"https://colab.research.google.com/github/agishaalbert/NLP_LABS/blob/main/AgishaAlbertLab1_logistic_regression.ipynb\" target=\"_parent\"><img src=\"https://colab.research.google.com/assets/colab-badge.svg\" alt=\"Open In Colab\"/></a>"
      ]
    },
    {
      "cell_type": "markdown",
      "metadata": {
        "id": "E6spWp7_TgrB"
      },
      "source": [
        "In this second part of the lab, we will implement a language identifier trained on the same data, but using Logistic Regression instead of Naive Bayes."
      ]
    },
    {
      "cell_type": "code",
      "execution_count": 178,
      "metadata": {
        "id": "9mehUBOlTgrE"
      },
      "outputs": [],
      "source": [
        "import io, sys, math\n",
        "import numpy as np\n",
        "from collections import defaultdict"
      ]
    },
    {
      "cell_type": "markdown",
      "metadata": {
        "id": "jbr_s74aTgrF"
      },
      "source": [
        "This function is used to build the dictionary, or vocabulary, which is a mapping from strings (or words) to integers (or indices). This will allow to build vector representations of documents. "
      ]
    },
    {
      "cell_type": "code",
      "execution_count": 179,
      "metadata": {
        "id": "kF8YYbsSTgrF"
      },
      "outputs": [],
      "source": [
        "def build_dict(filename, threshold=1):\n",
        "    fin = io.open(filename, 'r', encoding='utf-8')\n",
        "    word_dict, label_dict = {}, {}\n",
        "    counts = defaultdict(lambda: 0)\n",
        "    for line in fin:\n",
        "        tokens = line.split()\n",
        "        label = tokens[0]\n",
        "\n",
        "        if not label in label_dict:\n",
        "            label_dict[label] = len(label_dict)\n",
        "\n",
        "        for w in tokens[1:]:\n",
        "            counts[w] += 1\n",
        "            \n",
        "    for k, v in counts.items():\n",
        "        if v > threshold:\n",
        "            word_dict[k] = len(word_dict)\n",
        "    return word_dict, label_dict"
      ]
    },
    {
      "cell_type": "markdown",
      "metadata": {
        "id": "UFZYXnugTgrG"
      },
      "source": [
        "This function is used to load the training dataset, and build vector representations of the training examples. In particular, a document or sentence is represented as a bag of words. Each example correspond to a sparse vector ` x` of dimension `V`, where `V` is the size of the vocabulary. The element `j` of the vector `x` is the number of times the word `j` appears in the document."
      ]
    },
    {
      "cell_type": "code",
      "execution_count": 180,
      "metadata": {
        "id": "vvrAX1c_TgrG"
      },
      "outputs": [],
      "source": [
        "def load_data(filename, word_dict, label_dict):\n",
        "    fin = io.open(filename, 'r', encoding='utf-8')\n",
        "    data = []\n",
        "    dim = len(word_dict)\n",
        "    for line in fin:\n",
        "        tokens = line.split()\n",
        "        label = tokens[0]\n",
        "\n",
        "        yi = label_dict[label]\n",
        "        xi = np.zeros(dim)\n",
        "        for word in tokens[1:]:\n",
        "            if word in word_dict:\n",
        "                wid = word_dict[word]\n",
        "                xi[wid] += 1.0\n",
        "        data.append((yi, xi))\n",
        "    return data"
      ]
    },
    {
      "cell_type": "markdown",
      "metadata": {
        "id": "_g5LmWNYTgrH"
      },
      "source": [
        "First, let's implement the softmax function. Don't forget numerical stability!"
      ]
    },
    {
      "cell_type": "code",
      "execution_count": 181,
      "metadata": {
        "id": "l2DDPMkdTgrI"
      },
      "outputs": [],
      "source": [
        "def softmax(x):\n",
        "    ### FILL CODE\n",
        "    X_exp = np.exp(x-max(x))\n",
        "    S_X_exp = X_exp.sum(axis=0, keepdims=True)\n",
        "    return X_exp / S_X_exp"
      ]
    },
    {
      "cell_type": "code",
      "source": [
        "softmax(np.array([1,2,4,5,6]))"
      ],
      "metadata": {
        "colab": {
          "base_uri": "https://localhost:8080/"
        },
        "id": "tH_EgogZhqta",
        "outputId": "37e5d097-3e41-41fc-d708-a66d9310210e"
      },
      "execution_count": 182,
      "outputs": [
        {
          "output_type": "execute_result",
          "data": {
            "text/plain": [
              "array([0.00440888, 0.01198457, 0.08855466, 0.24071653, 0.65433536])"
            ]
          },
          "metadata": {},
          "execution_count": 182
        }
      ]
    },
    {
      "cell_type": "markdown",
      "metadata": {
        "id": "UZ8nMrh0TgrI"
      },
      "source": [
        "Now, let's implement the main training loop, by using stochastic gradient descent. The function will iterate over the examples of the training set. For each example, we will first compute the loss, before computing the gradient and performing the update."
      ]
    },
    {
      "cell_type": "code",
      "source": [
        "def sgd(w, data, niter):\n",
        "    nlabels, dim = w.shape\n",
        "    lr=0.1\n",
        "    for iter in range(niter):\n",
        "      train_loss= 0.0\n",
        "\n",
        "      ### FILL CODE\n",
        "      for label, sentence in data:\n",
        "        pred= softmax(np.dot(w, sentence))\n",
        "        \n",
        "        train_loss+= math.log(pred[label])\n",
        " \n",
        "        # Updating the weight for each example, \n",
        "        zero_vec=np.zeros(nlabels)\n",
        "        zero_vec[label]= 1.0#we replace at the label position  0 by 1\n",
        "        loss= pred-zero_vec #we check the difference \n",
        "        gradient= loss.reshape(nlabels, 1)*sentence.reshape((1, dim))\n",
        "        w= w- lr*gradient\n",
        "    return w"
      ],
      "metadata": {
        "id": "sW_pkwvUhSHT"
      },
      "execution_count": 198,
      "outputs": []
    },
    {
      "cell_type": "markdown",
      "metadata": {
        "id": "I9JuscdyTgrJ"
      },
      "source": [
        "The next function will predict the most probable label corresponding to example `x`, given the trained classifier `w`."
      ]
    },
    {
      "cell_type": "code",
      "source": [
        "def predict(w, x):\n",
        "\n",
        "  ## FILL CODE\n",
        "  Z=np.dot(w, x)\n",
        "  pred= softmax(Z)\n",
        "  return np.argmax(pred)"
      ],
      "metadata": {
        "id": "2n3CC87mhT0Y"
      },
      "execution_count": 199,
      "outputs": []
    },
    {
      "cell_type": "code",
      "source": [
        ""
      ],
      "metadata": {
        "id": "EMkJjaLFmLEP"
      },
      "execution_count": 199,
      "outputs": []
    },
    {
      "cell_type": "markdown",
      "metadata": {
        "id": "Id3P-ci3TgrK"
      },
      "source": [
        "Finally, this function will compute the accuracy of a trained classifier `w` on a validation set."
      ]
    },
    {
      "cell_type": "code",
      "execution_count": 200,
      "metadata": {
        "id": "yyei7uOQTgrK"
      },
      "outputs": [],
      "source": [
        "def compute_accuracy(w, valid_data):\n",
        "  accuracy = 0.0\n",
        "  for label, sentence in valid_data:\n",
        "    ## FILL CODE\n",
        "    pred = predict(w,sentence)\n",
        "    if pred ==label:\n",
        "       accuracy+=1\n",
        "\n",
        "  #Get the accuracy\n",
        "  return accuracy/len(valid_data)"
      ]
    },
    {
      "cell_type": "code",
      "source": [
        ""
      ],
      "metadata": {
        "id": "u7WCfi9-lP_X"
      },
      "execution_count": 200,
      "outputs": []
    },
    {
      "cell_type": "code",
      "execution_count": 201,
      "metadata": {
        "id": "R0N49vYOTgrK",
        "colab": {
          "base_uri": "https://localhost:8080/"
        },
        "outputId": "b7ced6af-166a-4d13-cfca-dfe2ff4eec12"
      },
      "outputs": [
        {
          "output_type": "stream",
          "name": "stdout",
          "text": [
            "\n",
            "** Logistic Regression **\n",
            "\n",
            "\n",
            "Validation accuracy: 0.923\n",
            "\n"
          ]
        }
      ],
      "source": [
        "print(\"\")\n",
        "print(\"** Logistic Regression **\")\n",
        "print(\"\")\n",
        "\n",
        "word_dict, label_dict = build_dict(\"train1.txt\")\n",
        "train_data = load_data(\"train1.txt\", word_dict, label_dict)\n",
        "valid_data = load_data(\"valid1.txt\", word_dict, label_dict)\n",
        "\n",
        "nlabels = len(label_dict)\n",
        "dim = len(word_dict)\n",
        "w = np.zeros([nlabels, dim])\n",
        "w = sgd(w, train_data, 5)\n",
        "print(\"\")\n",
        "print(\"Validation accuracy: %.3f\" % compute_accuracy(w, valid_data))\n",
        "print(\"\")"
      ]
    },
    {
      "cell_type": "code",
      "source": [
        ""
      ],
      "metadata": {
        "id": "KVSxLu5hliyO"
      },
      "execution_count": 201,
      "outputs": []
    }
  ],
  "metadata": {
    "kernelspec": {
      "display_name": "Python 3",
      "language": "python",
      "name": "python3"
    },
    "language_info": {
      "codemirror_mode": {
        "name": "ipython",
        "version": 3
      },
      "file_extension": ".py",
      "mimetype": "text/x-python",
      "name": "python",
      "nbconvert_exporter": "python",
      "pygments_lexer": "ipython3",
      "version": "3.6.2+"
    },
    "colab": {
      "name": "AgishaAlbertLab1_logistic_regression.ipynb",
      "provenance": [],
      "include_colab_link": true
    }
  },
  "nbformat": 4,
  "nbformat_minor": 0
}